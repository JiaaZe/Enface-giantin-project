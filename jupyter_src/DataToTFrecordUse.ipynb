{
 "cells": [
  {
   "cell_type": "code",
   "execution_count": 1,
   "metadata": {
    "collapsed": true
   },
   "outputs": [],
   "source": [
    "import math\n",
    "import os\n",
    "import random\n",
    "\n",
    "import tifffile\n",
    "import numpy as np\n",
    "import cv2\n",
    "from patchify import patchify\n",
    "import matplotlib.pyplot as plt\n",
    "\n",
    "from read_roi import read_roi_zip\n",
    "from tensorflow.keras.utils import Progbar\n"
   ]
  },
  {
   "cell_type": "code",
   "execution_count": 2,
   "metadata": {
    "pycharm": {
     "name": "#%%\n"
    }
   },
   "outputs": [],
   "source": [
    "plt.rcParams['axes.edgecolor'] = 'white'\n",
    "plt.rcParams['axes.labelcolor'] = 'white'\n",
    "plt.rcParams['axes.titlecolor'] = 'white'\n",
    "plt.rcParams['xtick.color'] = 'white'\n",
    "plt.rcParams['ytick.color'] = 'white'"
   ]
  },
  {
   "cell_type": "code",
   "execution_count": 26,
   "metadata": {
    "pycharm": {
     "name": "#%%\n"
    }
   },
   "outputs": [],
   "source": [
    "enface_c1_folder = \"../jupyter_data/all/enface/batch2/Giantin_c1\"\n",
    "enface_c2_folder = \"../jupyter_data/all/enface/batch2/Giantin_c2\"\n",
    "enface_c3_folder = \"../jupyter_data/all/enface/batch2/Giantin_c3\"\n",
    "enfaceSideview_c1_folder = \"../jupyter_data/all/enface_sideview/batch2/Giantin_c1\"\n",
    "enfaceSideview_c2_folder = \"../jupyter_data/all/enface_sideview/batch2/Giantin_c2\"\n",
    "enfaceSideview_c3_folder = \"../jupyter_data/all/enface_sideview/batch2/Giantin_c3\"\n",
    "\n",
    "enface_folder_list = [enface_c1_folder, enface_c2_folder, enface_c3_folder]\n",
    "enfaceSideview_list = [enfaceSideview_c1_folder, enfaceSideview_c2_folder, enfaceSideview_c3_folder]"
   ]
  },
  {
   "cell_type": "code",
   "execution_count": 14,
   "outputs": [],
   "source": [
    "'''\n",
    "# Delete modeling folder\n",
    "\n",
    "import shutil\n",
    "\n",
    "for folder in enfaceSideview_list:\n",
    "    image_id_list = os.listdir(folder)\n",
    "    for image_num, image_id in enumerate(image_id_list):\n",
    "        image_id_path = os.path.join(folder, image_id)\n",
    "        modeling_folder = os.path.join(image_id_path, \"modeling\")\n",
    "        if os.path.exists(modeling_folder):\n",
    "            shutil.rmtree(modeling_folder)\n",
    "            print(\"Detete sucessfully.\")\n",
    "\n",
    "        file_list = os.listdir(image_id_path)\n",
    "        if len(file_list) != 2:\n",
    "            print(\"Number of files in {} is not 2.\".format(image_id_path))\n",
    "'''"
   ],
   "metadata": {
    "collapsed": false,
    "pycharm": {
     "name": "#%%\n"
    }
   }
  },
  {
   "cell_type": "code",
   "execution_count": 4,
   "metadata": {
    "pycharm": {
     "name": "#%%\n"
    }
   },
   "outputs": [],
   "source": [
    "%load_ext autoreload\n",
    "%autoreload 2"
   ]
  },
  {
   "cell_type": "code",
   "execution_count": null,
   "metadata": {
    "pycharm": {
     "name": "#%%\n",
     "is_executing": true
    }
   },
   "outputs": [],
   "source": [
    "from jupyter_src.functions import select_roi\n",
    "\n",
    "# 遍历每个 enface giantin folder\n",
    "enface_folder_roi_list = []\n",
    "enface_id_list = []\n",
    "for folder_num, giantin_folder in enumerate(enface_folder_list):\n",
    "    image_id_list = os.listdir(giantin_folder)\n",
    "    image_roi_list = []\n",
    "    for image_num, image_id in enumerate(image_id_list):\n",
    "        enface_id_list.append(image_id)\n",
    "        image_roi_dict = {}\n",
    "        image_id_path = os.path.join(giantin_folder, image_id)\n",
    "        file_list = os.listdir(image_id_path)\n",
    "        if len(file_list) != 2:\n",
    "            print(\"Folder [{}] doesn't have 2 files.\".format(image_id_path))\n",
    "            continue\n",
    "        file_list = [os.path.join(image_id_path, file) for file in file_list]\n",
    "        if file_list[0].endswith(\"tif\"):\n",
    "            tif_path, roi_path = file_list\n",
    "        else:\n",
    "            roi_path, tif_path = file_list\n",
    "\n",
    "        giantin_channel = int(giantin_folder[-1]) - 1\n",
    "        golgi_image = tifffile.imread(tif_path)\n",
    "        giantin_tif = golgi_image[giantin_channel]\n",
    "        roi_coords, accept_roi, reject_roi = select_roi(folder_num, image_num, roi_path, giantin_tif, show_plt=False,\n",
    "                                                        has_sideview=False)\n",
    "        image_roi_dict[\"giantin_tif\"] = giantin_tif\n",
    "        image_roi_dict[\"roi_coords\"] = roi_coords\n",
    "        image_roi_dict[\"accept_roi\"] = accept_roi\n",
    "        image_roi_dict[\"reject_roi\"] = reject_roi\n",
    "        print(image_id_path)\n",
    "        image_roi_list.append(image_roi_dict)\n",
    "    enface_folder_roi_list.append(image_roi_list)"
   ]
  },
  {
   "cell_type": "code",
   "execution_count": null,
   "metadata": {
    "pycharm": {
     "name": "#%%\n",
     "is_executing": true
    }
   },
   "outputs": [],
   "source": [
    "from jupyter_src.functions import select_roi\n",
    "\n",
    "# 遍历每个enfaceSideview giantin folder\n",
    "enfaceSideview_folder_roi_list = []\n",
    "enfaceSideview_id_list = []\n",
    "for folder_num, giantin_folder in enumerate(enfaceSideview_list):\n",
    "    image_id_list = os.listdir(giantin_folder)\n",
    "    image_roi_list = []\n",
    "    for image_num, image_id in enumerate(image_id_list):\n",
    "        enfaceSideview_id_list.append(image_id)\n",
    "        image_roi_dict = {}\n",
    "        image_id_path = os.path.join(giantin_folder, image_id)\n",
    "        file_list = os.listdir(image_id_path)\n",
    "        if len(file_list) != 2:\n",
    "            print(\"Folder [{}] doesn't have 2 files.\".format(image_id_path))\n",
    "            continue\n",
    "        file_list = [os.path.join(image_id_path, file) for file in file_list]\n",
    "        if file_list[0].endswith(\"tif\"):\n",
    "            tif_path, roi_path = file_list\n",
    "        else:\n",
    "            roi_path, tif_path = file_list\n",
    "\n",
    "        giantin_channel = int(giantin_folder[-1]) - 1\n",
    "        golgi_image = tifffile.imread(tif_path)\n",
    "        giantin_tif = golgi_image[giantin_channel]\n",
    "        roi_coords, accept_roi, reject_roi = select_roi(folder_num, image_num, roi_path, giantin_tif, show_plt=False,\n",
    "                                                        has_sideview=False)\n",
    "        image_roi_dict[\"giantin_tif\"] = giantin_tif\n",
    "        image_roi_dict[\"roi_coords\"] = roi_coords\n",
    "        image_roi_dict[\"accept_roi\"] = accept_roi\n",
    "        image_roi_dict[\"reject_roi\"] = reject_roi\n",
    "        print(image_id_path)\n",
    "        image_roi_list.append(image_roi_dict)\n",
    "    enfaceSideview_folder_roi_list.append(image_roi_list)\n"
   ]
  },
  {
   "cell_type": "code",
   "execution_count": 29,
   "outputs": [
    {
     "name": "stdout",
     "output_type": "stream",
     "text": [
      "[0,20,9] reject is None\n",
      "enface_accept finished\n"
     ]
    }
   ],
   "source": [
    "from functions import filter_roi\n",
    "\n",
    "# filter enface folder\n",
    "enface_accept_list =  [[0, 0, [5, 8]], [0, 1, [1]], [0, 2, [6, 13]], [0, 4, [1, 10]], [0, 5, [0, 3, 7, 16, 21]],\n",
    "                      [0, 6, [2, 7, 8]], [0, 9, [1, 2, 4, 5]], [0, 10, [6, 8]], [0, 15, [3]], [0, 16, [3, 4]],\n",
    "                      [0, 20, [5, 9, 11, 12]], [0, 22, [14]], [0, 27, [1, 2]], [0, 28, [0, 3]], [0, 31, [5, 9]],\n",
    "                      [0, 33, [5, 6]], [0, 35, [1, 7]], [0, 37, [7]], [0, 41, [5]], [0, 42, [3, 4, 5]], [1, 0, [2, 5]],\n",
    "                      [1, 1, [1, 11]], [1, 2, [11]], [1, 4, [4]], [1, 5, [13, 14]]]\n",
    "\n",
    "filtered_enface_folder_roi_list = filter_roi(enface_folder_roi_list, num_lists=enface_accept_list, accept_flag=True)\n",
    "print(\"enface_accept finished\")\n"
   ],
   "metadata": {
    "collapsed": false,
    "pycharm": {
     "name": "#%%\n"
    }
   }
  },
  {
   "cell_type": "code",
   "execution_count": 30,
   "metadata": {
    "pycharm": {
     "name": "#%%\n"
    }
   },
   "outputs": [
    {
     "name": "stdout",
     "output_type": "stream",
     "text": [
      "enface_reject finished\n"
     ]
    }
   ],
   "source": [
    "from functions import filter_roi\n",
    "\n",
    "# filter enface folder\n",
    "enface_reject_list = [[0, 6, [12]], [0, 11, [3]], [0, 27, [11]], [0, 36, [6]], [0, 41, [6]], [1, 2, [6]]]\n",
    "\n",
    "filtered_enface_folder_roi_list = filter_roi(filtered_enface_folder_roi_list, num_lists=enface_reject_list,\n",
    "                                             accept_flag=False)\n",
    "print(\"enface_reject finished\")"
   ]
  },
  {
   "cell_type": "code",
   "execution_count": 31,
   "outputs": [
    {
     "name": "stdout",
     "output_type": "stream",
     "text": [
      "[1,3,25] reject is None\n",
      "[1,7,7] reject is None\n",
      "enfaceSideview_accept finished\n"
     ]
    }
   ],
   "source": [
    "from functions import filter_roi\n",
    "\n",
    "# filter enfaceSideview folder\n",
    "encafeSideview_accept_list =  [[0, 0, [4, 5]], [0, 1, [0]], [0, 2, [3]], [0, 3, [2, 16]], [0, 4, [0, 1, 5, 11]],\n",
    "                              [0, 5, [7]], [0, 7, [0, 1, 3, 4]], [1, 0, [3]], [1, 1, [33, 35]], [1, 3, [12, 13, 25]],\n",
    "                              [1, 4, [0, 5, 6, 7, 13]], [1, 6, [11, 28]], [1, 7, [3, 7, 12]], [1, 8, [4, 19]],\n",
    "                              [1, 9, [8]], [1, 10, [18, 25, 35]], [1, 11, [0, 4, 7, 14, 15, 17]], [1, 12, [2, 3, 16]],\n",
    "                              [1, 13, [12]], [1, 16, [4, 5]], [1, 18, [1]], [1, 20, [3, 4]], [1, 21, [10]],\n",
    "                              [1, 27, [14]], [1, 28, [0, 2, 7]], [1, 33, [0]], [1, 35, [4]], [1, 37, [13]],\n",
    "                              [1, 38, [4, 6, 12, 13, 28]], [1, 41, [6]], [1, 43, [2]], [1, 44, [7]], [2, 0, [16]]]\n",
    "filtered_enfaceSideview_folder_roi_list = filter_roi(enfaceSideview_folder_roi_list,\n",
    "                                                     num_lists=encafeSideview_accept_list, accept_flag=True)\n",
    "print(\"enfaceSideview_accept finished\")"
   ],
   "metadata": {
    "collapsed": false,
    "pycharm": {
     "name": "#%%\n"
    }
   }
  },
  {
   "cell_type": "code",
   "execution_count": 32,
   "outputs": [
    {
     "name": "stdout",
     "output_type": "stream",
     "text": [
      "enfaceSideview_reject finished\n"
     ]
    }
   ],
   "source": [
    "from functions import filter_roi\n",
    "\n",
    "encafeSideview_reject_list = [[0, 1, [6]], [0, 3, [21, 32]], [0, 5, [9]], [0, 7, [10, 19, 25, 28]], [1, 0, [14]],\n",
    "                              [1, 1, [16, 36, 51]], [1, 2, [4]], [1, 4, [14]], [1, 6, [12]], [1, 7, [8]],\n",
    "                              [1, 8, [21, 22]], [1, 9, [16]], [1, 13, [19, 22, 24]], [1, 14, [12, 17, 18]],\n",
    "                              [1, 16, [12]], [1, 17, [0, 4, 21]], [1, 18, [7]], [1, 19, [9, 12, 14, 16]], [1, 21, [15]],\n",
    "                              [1, 23, [8]], [1, 24, [6, 13, 15, 16, 18, 19, 20]], [1, 25, [14]], [1, 27, [17, 19]],\n",
    "                              [1, 28, [28, 32]], [1, 29, [2, 13, 15]], [1, 30, [6, 7, 8]], [1, 32, [14]],\n",
    "                              [1, 33, [11, 15, 16]], [1, 34, [7]], [1, 38, [20]], [1, 39, [18, 22]], [1, 41, [12]],\n",
    "                              [1, 42, [6, 7, 10]], [1, 43, [6, 7, 8, 9, 10, 11, 12, 13]], [1, 44, [10]]]\n",
    "# filter enfaceSideview folder\n",
    "\n",
    "filtered_enfaceSideview_folder_roi_list = filter_roi(\n",
    "    filtered_enfaceSideview_folder_roi_list,\n",
    "    num_lists=encafeSideview_reject_list, accept_flag=False)\n",
    "print(\"enfaceSideview_reject finished\")"
   ],
   "metadata": {
    "collapsed": false,
    "pycharm": {
     "name": "#%%\n"
    }
   }
  },
  {
   "cell_type": "code",
   "execution_count": 40,
   "outputs": [
    {
     "name": "stdout",
     "output_type": "stream",
     "text": [
      "roiList_to_mask finished\n"
     ]
    }
   ],
   "source": [
    "# get giantin and mask from folder list\n",
    "\n",
    "from functions import roiList_to_mask\n",
    "\n",
    "# enface\n",
    "enface_giantin_list, enface_mask_list = roiList_to_mask(filtered_enface_folder_roi_list)\n",
    "# enfaceSideview\n",
    "enfaceSideview_giantin_list, enfaceSideview_mask_list = roiList_to_mask(filtered_enfaceSideview_folder_roi_list)\n",
    "\n",
    "print(\"roiList_to_mask finished\")"
   ],
   "metadata": {
    "collapsed": false,
    "pycharm": {
     "name": "#%%\n"
    }
   }
  },
  {
   "cell_type": "code",
   "execution_count": 41,
   "outputs": [
    {
     "name": "stdout",
     "output_type": "stream",
     "text": [
      "668\n",
      "874\n",
      "668\n",
      "668\n",
      "874\n",
      "874\n",
      "874\n",
      "462\n",
      "874\n",
      "462\n",
      "874\n",
      "668\n",
      "668\n",
      "668\n",
      "668\n",
      "668\n",
      "462\n",
      "668\n",
      "462\n",
      "874\n",
      "1080\n",
      "1080\n",
      "1080\n",
      "1286\n",
      "1080\n",
      "1080\n",
      "1080\n",
      "874\n",
      "1080\n",
      "462\n",
      "1080\n",
      "1080\n",
      "1492\n",
      "1286\n",
      "1080\n",
      "874\n",
      "1080\n",
      "1080\n",
      "1080\n",
      "874\n",
      "874\n",
      "874\n",
      "1080\n",
      "874\n",
      "874\n",
      "874\n",
      "874\n",
      "462\n",
      "874\n",
      "874\n",
      "668\n",
      "874\n",
      "668\n",
      "668\n",
      "874\n",
      "874\n",
      "874\n",
      "462\n",
      "874\n",
      "462\n",
      "874\n",
      "668\n",
      "668\n",
      "668\n",
      "668\n",
      "668\n",
      "462\n",
      "668\n",
      "462\n",
      "874\n",
      "1080\n",
      "1080\n",
      "1080\n",
      "1286\n",
      "1080\n",
      "1080\n",
      "1080\n",
      "874\n",
      "1080\n",
      "462\n",
      "1080\n",
      "1080\n",
      "1492\n",
      "1286\n",
      "1080\n",
      "874\n",
      "1080\n",
      "1080\n",
      "1080\n",
      "874\n",
      "874\n",
      "874\n",
      "1080\n",
      "874\n",
      "874\n",
      "874\n",
      "874\n",
      "462\n",
      "874\n",
      "874\n",
      "462\n",
      "668\n",
      "874\n",
      "1080\n",
      "874\n",
      "874\n",
      "874\n",
      "1080\n",
      "668\n",
      "668\n",
      "668\n",
      "874\n",
      "668\n",
      "668\n",
      "874\n",
      "1080\n",
      "874\n",
      "874\n",
      "874\n",
      "874\n",
      "874\n",
      "874\n",
      "874\n",
      "1080\n",
      "1080\n",
      "874\n",
      "874\n",
      "874\n",
      "874\n",
      "1080\n",
      "1080\n",
      "874\n",
      "1080\n",
      "874\n",
      "1080\n",
      "1080\n",
      "1080\n",
      "1080\n",
      "1080\n",
      "874\n",
      "874\n",
      "1080\n",
      "668\n",
      "1080\n",
      "1080\n",
      "1080\n",
      "1080\n",
      "874\n",
      "668\n",
      "874\n",
      "1080\n",
      "874\n",
      "1080\n",
      "668\n",
      "462\n",
      "668\n",
      "874\n",
      "1080\n",
      "874\n",
      "874\n",
      "874\n",
      "1080\n",
      "668\n",
      "668\n",
      "668\n",
      "874\n",
      "668\n",
      "668\n",
      "874\n",
      "1080\n",
      "874\n",
      "874\n",
      "874\n",
      "874\n",
      "874\n",
      "874\n",
      "874\n",
      "1080\n",
      "1080\n",
      "874\n",
      "874\n",
      "874\n",
      "874\n",
      "1080\n",
      "1080\n",
      "874\n",
      "1080\n",
      "874\n",
      "1080\n",
      "1080\n",
      "1080\n",
      "1080\n",
      "1080\n",
      "874\n",
      "874\n",
      "1080\n",
      "668\n",
      "1080\n",
      "1080\n",
      "1080\n",
      "1080\n",
      "874\n",
      "668\n",
      "874\n",
      "1080\n",
      "874\n",
      "1080\n",
      "668\n",
      "padding_image finished\n"
     ]
    }
   ],
   "source": [
    "# padding and patchify giantin and mask list\n",
    "\n",
    "from functions import padding_image\n",
    "\n",
    "padded_enface_giantin_list, patches_enface_giantin_list = padding_image(enface_giantin_list, do_patchify=True,\n",
    "                                                                        clear_edge_roi=False, patch_size=(256, 256),\n",
    "                                                                        patch_step=206)\n",
    "\n",
    "padded_enface_mask_list, patches_enface_mask_list = padding_image(enface_mask_list, do_patchify=True,\n",
    "                                                                  clear_edge_roi=True, patch_size=(256, 256),\n",
    "                                                                  patch_step=206)\n",
    "\n",
    "padded_enfaceSideview_giantin_list, patches_enfaceSideview_giantin_list = padding_image(enfaceSideview_giantin_list,\n",
    "                                                                                        do_patchify=True,\n",
    "                                                                                        clear_edge_roi=False,\n",
    "                                                                                        patch_size=(256, 256),\n",
    "                                                                                        patch_step=206)\n",
    "\n",
    "padded_enfaceSideview_mask_list, patches_enfaceSideview_mask_list = padding_image(enfaceSideview_mask_list,\n",
    "                                                                                  do_patchify=True, clear_edge_roi=True,\n",
    "                                                                                  patch_size=(256, 256), patch_step=206)\n",
    "\n",
    "print(\"padding_image finished\")"
   ],
   "metadata": {
    "collapsed": false,
    "pycharm": {
     "name": "#%%\n"
    }
   }
  },
  {
   "cell_type": "code",
   "execution_count": 14,
   "outputs": [
    {
     "name": "stdout",
     "output_type": "stream",
     "text": [
      "20181001-HeLa-Giantin-647-mCherryG84-ACBD3-GFP-Noc-02\n",
      "5 10\n"
     ]
    },
    {
     "data": {
      "text/plain": "<Figure size 576x576 with 2 Axes>",
      "image/png": "[encoded data removed]"
     },
     "metadata": {
      "needs_background": "dark"
     },
     "output_type": "display_data"
    }
   ],
   "source": [
    "# After correct function padding_image()\n",
    "i = 5\n",
    "print(enface_id_list[i])\n",
    "j = 10\n",
    "print(i, j)\n",
    "plt.figure(figsize=(8, 8))\n",
    "plt.subplot(121)\n",
    "plt.imshow(patches_enface_giantin_list[i][j])\n",
    "plt.subplot(122)\n",
    "plt.imshow(patches_enface_mask_list[i][j])\n",
    "plt.show()"
   ],
   "metadata": {
    "collapsed": false,
    "pycharm": {
     "name": "#%%\n"
    }
   }
  },
  {
   "cell_type": "code",
   "execution_count": 24,
   "outputs": [
    {
     "name": "stdout",
     "output_type": "stream",
     "text": [
      "20181001-HeLa-Giantin-647-mCherryG84-ACBD3-GFP-Noc-02\n",
      "5 10\n"
     ]
    },
    {
     "data": {
      "text/plain": "<Figure size 576x576 with 2 Axes>",
      "image/png": "[encoded data removed]"
     },
     "metadata": {
      "needs_background": "dark"
     },
     "output_type": "display_data"
    }
   ],
   "source": [
    "# show patches randomly\n",
    "import random\n",
    "\n",
    "i = random.randint(0, len(patches_enface_giantin_list) - 1)\n",
    "i = 5\n",
    "print(enface_id_list[i])\n",
    "j = random.randint(0, len(patches_enface_giantin_list[i]) - 1)\n",
    "j = 10\n",
    "print(i, j)\n",
    "plt.figure(figsize=(8, 8))\n",
    "plt.subplot(121)\n",
    "plt.imshow(patches_enface_giantin_list[i][j])\n",
    "plt.subplot(122)\n",
    "plt.imshow(patches_enface_mask_list[i][j])\n",
    "plt.show()"
   ],
   "metadata": {
    "collapsed": false,
    "pycharm": {
     "name": "#%%\n"
    }
   }
  },
  {
   "cell_type": "code",
   "execution_count": null,
   "outputs": [],
   "source": [
    "from TFRecord_func import data_to_TFRecord\n",
    "\n",
    "enface_tfrecord_path = \"../jupyter_data/tfrecord_new/enface/batch2\"\n",
    "data_to_TFRecord(enface_id_list, patches_enface_giantin_list, patches_enface_mask_list, enface_tfrecord_path)"
   ],
   "metadata": {
    "collapsed": false,
    "pycharm": {
     "name": "#%%\n",
     "is_executing": true
    }
   }
  },
  {
   "cell_type": "code",
   "execution_count": null,
   "outputs": [],
   "source": [
    "from TFRecord_func import data_to_TFRecord\n",
    "\n",
    "enfacesideview_tfrecord_path = \"../jupyter_data/tfrecord_new/enfaceSideview/batch2\"\n",
    "data_to_TFRecord(enfaceSideview_id_list, patches_enfaceSideview_giantin_list, patches_enfaceSideview_mask_list,\n",
    "                 enfacesideview_tfrecord_path)"
   ],
   "metadata": {
    "collapsed": false,
    "pycharm": {
     "name": "#%%\n",
     "is_executing": true
    }
   }
  },
  {
   "cell_type": "code",
   "execution_count": 28,
   "outputs": [
    {
     "name": "stdout",
     "output_type": "stream",
     "text": [
      "WARNING:tensorflow:AutoGraph could not transform <function parse_tfrecord_fn at 0x00000223DCC161F0> and will run it as-is.\n",
      "Please report this to the TensorFlow team. When filing the bug, set the verbosity to 10 (on Linux, `export AUTOGRAPH_VERBOSITY=10`) and attach the full output.\n",
      "Cause: module 'gast' has no attribute 'Index'\n",
      "To silence this warning, decorate the function with @tf.autograph.experimental.do_not_convert\n"
     ]
    },
    {
     "name": "stderr",
     "output_type": "stream",
     "text": [
      "WARNING:tensorflow:AutoGraph could not transform <function parse_tfrecord_fn at 0x00000223DCC161F0> and will run it as-is.\n",
      "Please report this to the TensorFlow team. When filing the bug, set the verbosity to 10 (on Linux, `export AUTOGRAPH_VERBOSITY=10`) and attach the full output.\n",
      "Cause: module 'gast' has no attribute 'Index'\n",
      "To silence this warning, decorate the function with @tf.autograph.experimental.do_not_convert\n"
     ]
    },
    {
     "name": "stdout",
     "output_type": "stream",
     "text": [
      "WARNING: AutoGraph could not transform <function parse_tfrecord_fn at 0x00000223DCC161F0> and will run it as-is.\n",
      "Please report this to the TensorFlow team. When filing the bug, set the verbosity to 10 (on Linux, `export AUTOGRAPH_VERBOSITY=10`) and attach the full output.\n",
      "Cause: module 'gast' has no attribute 'Index'\n",
      "To silence this warning, decorate the function with @tf.autograph.experimental.do_not_convert\n",
      "25/27 [==========================>...] - ETA: 0s\b\b\b\b\b\b\b\b\b\b\b\b\b\b\b\b\b\b\b\b\b\b\b\b\b\b\b\b\b\b\b\b\b\b\b\b\b\b\b\b\b\b\b\b\b\b\b\b\b\b\b\b\b\b\b\b\b\b\b\b\b\b\b\b\b\b\b\b\b\b\b\b\b\b\b\b\b\b\b\b\b\b\b\b\b\b\b\b\b\b\b\b\b\b\b\b\b\b\b\b\b\b\b\b\b\b\b\b\b\b\b\b\b\b\b\b\b\b\b\b\b\b\b\b\b\b\b\b\b\b\b\b\b\b\b\b\b\b\b\b\b\b\b\b\b\b\b\b\b\b\b\b\b\b\b\b\b\b\b\b\b\b\b\b\b\b\b\b\b\b\b\b\b\b\b\b\b\b\b\b\b\b\b\b\b\b\b\b\b\b\b\b\b\b\b\b\b\b\b\b\b\b\b\b\b\b\b\b\b\b\b\b\b\b\b\b\b\b\b\b\b\b\b\b\b\b\b\b\b\b\b\b\b\b\b\b\b\b\b\b\b\b\b\b\b\b\b\b\b\b\b\b\b\b\b\b\b\b\b\b\b\b\b\b\b\b\b\b\b\b\b\b\b\b\b\b\b\b\b\b\b\b\b\b\b\b\b\b\b\b\b\b\b\b\b\b\b\b\b\b\b\b\b\b\b\b\b\b\b\b\b\b\b\b\b\b\b\b\b\b\b\b\b\b\b\b\b\b\b\b\b\b\b\b\b\b\b\b\b\b\b\b\b\b\b\b\b\b\b\b\b\b\b\b\b\b\b\b\b\b\b\b\b\b\b\b\b\b\b\b\b\b\b\b\b\b\b\b\b\b\b\b\b\b\b\b\b\b\b\b\b\b\b\b\b\b\b\b\b\b\b\b\b\b\b\b\b\b\b\b\b\b\b\b\b\b\b\b\b\b\b\b\b\b\b\b\b\b\b\b\b\b\b\b\b\b\b\b\b\b\b\b\b\b\b\b\b\b\b\b\b\b\b\b\b\b\b\b\b\b\b\b\b\b\b\b\b\b\b\b\b\b\b\b\b\b\b\b\b\b\b\b\b\b\b\b\b\b\b\b\b\b\b\b\b\b\b\b\b\b\b\b\b\b\b\b\b\b\b\b\b\b\b\b\b\b\b\b\b\b\b\b\b\b\b\b\b\b\b\b\b\b\b\b\b\b\b\b\b\b\b\b\b\b\b\b\b\b\b\b\b\b\b\b\b\b\b\b\b\b\b\b\b\b\b\b\b\b\b\b\b\b\b\b\b\b\b\b\b\b\b\b\b\b\b\b\b\b\b\b\b\b\b\b\b\b\b\b\b\b\b\b\b\b\b\b\b\b\b\b\b\b\b\b\b\b\b\b\b\b\b\b\b\b\b\b\b\b\b\b\b\b\b\b\b\b\b\b\b\b\b\b\b\b\b\b\b\b\b\b\b\b\b\b\b\b\b\b\b\b\b\b\b\b\b\b\b\b\b\b\b\b\b\b\b\b\b\b\b\b\b\b\b\b\b\b\b\b\b\b\b\b\b\b\b\b\b\b\b\b\b\b\b\b\b\b\b\b\b\b\b\b\b\b\b\b\b\b\b\b\b\b\b\b\b\b\b\b\b\b\b\b\b\b\b\b\b\b\b\b\b\b\b\b\b\b\b\b\b\b\b\b\b\b\b\b\b\b\b\b\b\b\b\b\b\b\b\b\b\b\b\b\b\b\b\b\b\b\b\b\b\b\b\b\b\b\b\b\b\b\b\b\b\b\b\b\b\b\b\b\b\b\b\b\b\b\b\b\b\b\b\b\b\b\b\b\b\b\b\b\b\b\b\b\b\b\b\b\b\b\b\b\b\b\b\b\b\b\b\b\b\b\b\b\b\b\b\b\b\b\b\b\b\b\b\b\b\b\b\b\b\b\b\b\b\b\b\b\b\b\b\b\b\b\b\b\b\b\b\b\b\b\b\b\b\b\b\b\b\b\b\b\b\b\b\b\b\b\b\b\b\b\b\b\b\b\b\b\b\b\b\b\b\b\b\b\b\b\b\b\b\b\b\b\b\b\b\b\b\b\b\b\b\b\b\b\b\b\b\b\b\b\b\b\b\b\b\b\b\b\b\b\b\b\b\b\b\b\b\b\b\b\b\b\b\b\b\b\b\b\b\b\b\b\b\b\b\b\b\b\b\b\b\b\b\b\b\b\b\b\b\b\b\b\b\b\b\b\b\b\b\b\b\b\b\b\b\b"
     ]
    }
   ],
   "source": [
    "# get data from tfrecord\n",
    "from TFRecord_func import TFRecord_to_data\n",
    "\n",
    "enface_tf_images, enface_tf_masks, enface_tf_ids = TFRecord_to_data(enface_tfrecord_path)\n",
    "enfaceSideview_tf_images, enfaceSideview_tf_masks, enfaceSideview_tf_ids = TFRecord_to_data(\n",
    "    enfacesideview_tfrecord_path)\n"
   ],
   "metadata": {
    "collapsed": false,
    "pycharm": {
     "name": "#%%\n"
    }
   }
  },
  {
   "cell_type": "code",
   "execution_count": 30,
   "outputs": [
    {
     "name": "stdout",
     "output_type": "stream",
     "text": [
      "20181001-HeLa-Giantin-647-GPP130-mCherry-tpcqh-GFP-Noc-01\n",
      "20181001-HeLa-Giantin-647-GPP130-mCherry-tpcqh-GFP-Noc-01\n",
      "2 4\n"
     ]
    },
    {
     "data": {
      "text/plain": "<Figure size 576x576 with 2 Axes>",
      "image/png": "[encoded data removed]"
     },
     "metadata": {
      "needs_background": "dark"
     },
     "output_type": "display_data"
    },
    {
     "name": "stdout",
     "output_type": "stream",
     "text": [
      "uint16\n",
      "bool\n"
     ]
    }
   ],
   "source": [
    "import random\n",
    "\n",
    "i = random.randint(0, len(enface_tf_images) - 1)\n",
    "print(enface_id_list[i])\n",
    "print(enface_tf_ids[i])\n",
    "j = random.randint(0, len(enface_tf_images[i]) - 1)\n",
    "print(i, j)\n",
    "plt.figure(figsize=(8, 8))\n",
    "plt.subplot(121)\n",
    "plt.imshow(enface_tf_images[i][j])\n",
    "plt.subplot(122)\n",
    "plt.imshow(enface_tf_masks[i][j])\n",
    "plt.show()\n",
    "\n",
    "print(enface_tf_images[i][j].dtype)\n",
    "print(enface_tf_masks[i][j].dtype)\n"
   ],
   "metadata": {
    "collapsed": false,
    "pycharm": {
     "name": "#%%\n"
    }
   }
  },
  {
   "cell_type": "code",
   "execution_count": null,
   "outputs": [],
   "source": [
    "import random\n",
    "\n",
    "i = random.randint(0, len(enface_tf_images) - 1)\n",
    "i = 5\n",
    "print(enface_id_list[i])\n",
    "print(enface_tf_ids[i])\n",
    "j = random.randint(0, len(enface_tf_images[i]) - 1)\n",
    "j = 21\n",
    "print(i, j)\n",
    "plt.figure(figsize=(8, 8))\n",
    "plt.subplot(121)\n",
    "plt.imshow(enface_tf_images[i][j])\n",
    "plt.subplot(122)\n",
    "plt.imshow(enface_tf_masks[i][j])\n",
    "plt.show()\n",
    "\n",
    "print(enface_tf_images[i][j].dtype)\n",
    "print(enface_tf_masks[i][j].dtype)"
   ],
   "metadata": {
    "collapsed": false,
    "pycharm": {
     "name": "#%%\n",
     "is_executing": true
    }
   }
  }
 ],
 "metadata": {
  "kernelspec": {
   "display_name": "PyCharm (en-face_project)",
   "language": "python",
   "name": "pycharm-2dc760e3"
  },
  "language_info": {
   "codemirror_mode": {
    "name": "ipython",
    "version": 3
   },
   "file_extension": ".py",
   "mimetype": "text/x-python",
   "name": "python",
   "nbconvert_exporter": "python",
   "pygments_lexer": "ipython3",
   "version": "3.8.8"
  }
 },
 "nbformat": 4,
 "nbformat_minor": 1
}